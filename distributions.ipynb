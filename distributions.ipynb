{
  "nbformat": 4,
  "nbformat_minor": 0,
  "metadata": {
    "colab": {
      "provenance": []
    },
    "kernelspec": {
      "name": "python3",
      "display_name": "Python 3"
    },
    "language_info": {
      "name": "python"
    }
  },
  "cells": [
    {
      "cell_type": "code",
      "source": [
        "sum(np.random.binomial(12, 0.2, 20000) == 4)/20000\n",
        "sum(np.random.binomial(12, 0.2, 20000) <= 4)/20000\n"
      ],
      "metadata": {
        "id": "TVk2fS0q2xBz"
      },
      "execution_count": null,
      "outputs": []
    },
    {
      "cell_type": "code",
      "execution_count": null,
      "metadata": {
        "id": "JHCD4Gs80r0p"
      },
      "outputs": [],
      "source": [
        "import scipy.stats\n",
        "import numpy as np\n",
        "import matplotlib.pyplot as plt"
      ]
    },
    {
      "cell_type": "code",
      "source": [
        "sum(np.random.binomial(12, 0.2, 20000) == 4)/20000\n"
      ],
      "metadata": {
        "colab": {
          "base_uri": "https://localhost:8080/"
        },
        "id": "ttKexE5V24XW",
        "outputId": "6b869f69-6ba5-4975-f02f-3992dfb6a7b2"
      },
      "execution_count": null,
      "outputs": [
        {
          "output_type": "execute_result",
          "data": {
            "text/plain": [
              "0.13335"
            ]
          },
          "metadata": {},
          "execution_count": 13
        }
      ]
    },
    {
      "cell_type": "code",
      "source": [
        "sum(np.random.binomial(12, 0.2, 20000) <= 4)/20000\n"
      ],
      "metadata": {
        "colab": {
          "base_uri": "https://localhost:8080/"
        },
        "id": "PIDIhlUl27yp",
        "outputId": "4ace9211-6ce3-4e61-ead4-4ece002a27bb"
      },
      "execution_count": null,
      "outputs": [
        {
          "output_type": "execute_result",
          "data": {
            "text/plain": [
              "0.92725"
            ]
          },
          "metadata": {},
          "execution_count": 14
        }
      ]
    },
    {
      "cell_type": "code",
      "source": [
        "\n",
        "sum(np.random.binomial(9, 0.1, 20000) == 0)/20000\n"
      ],
      "metadata": {
        "colab": {
          "base_uri": "https://localhost:8080/"
        },
        "id": "vMKKn9-u2_fB",
        "outputId": "3dd3c164-b59d-408f-c7af-6021fbea28bb"
      },
      "execution_count": null,
      "outputs": [
        {
          "output_type": "execute_result",
          "data": {
            "text/plain": [
              "0.38915"
            ]
          },
          "metadata": {},
          "execution_count": 15
        }
      ]
    },
    {
      "cell_type": "code",
      "source": [
        "sum(np.random.poisson(12, 10000) >=17)/10000"
      ],
      "metadata": {
        "colab": {
          "base_uri": "https://localhost:8080/"
        },
        "id": "znf9FX012_2f",
        "outputId": "c3c58ba7-ada8-410c-efd5-64413f4cb362"
      },
      "execution_count": null,
      "outputs": [
        {
          "output_type": "execute_result",
          "data": {
            "text/plain": [
              "0.0997"
            ]
          },
          "metadata": {},
          "execution_count": 16
        }
      ]
    },
    {
      "cell_type": "code",
      "source": [
        "sum(np.random.uniform(0,20,1000) >5)/1000"
      ],
      "metadata": {
        "colab": {
          "base_uri": "https://localhost:8080/"
        },
        "id": "8OblZmLJ3AaH",
        "outputId": "f4168bbd-71c1-4643-8031-0b1677d93db4"
      },
      "execution_count": null,
      "outputs": [
        {
          "output_type": "execute_result",
          "data": {
            "text/plain": [
              "0.748"
            ]
          },
          "metadata": {},
          "execution_count": 17
        }
      ]
    },
    {
      "cell_type": "code",
      "source": [
        "sum(np.random.uniform(0,20,1000) <10)/1000"
      ],
      "metadata": {
        "colab": {
          "base_uri": "https://localhost:8080/"
        },
        "id": "FBN5UbnZ3Mci",
        "outputId": "1eb0371e-8523-4cbe-f1f9-32550de55990"
      },
      "execution_count": null,
      "outputs": [
        {
          "output_type": "execute_result",
          "data": {
            "text/plain": [
              "0.496"
            ]
          },
          "metadata": {},
          "execution_count": 18
        }
      ]
    },
    {
      "cell_type": "code",
      "source": [
        "(sum(np.random.uniform(0,20,1000) >5)/1000) - (sum(np.random.uniform(0,20,1000) <10)/1000)"
      ],
      "metadata": {
        "colab": {
          "base_uri": "https://localhost:8080/"
        },
        "id": "QWj0BUxA3Rq1",
        "outputId": "f335990e-55de-458d-cde2-f777515e5392"
      },
      "execution_count": null,
      "outputs": [
        {
          "output_type": "execute_result",
          "data": {
            "text/plain": [
              "0.264"
            ]
          },
          "metadata": {},
          "execution_count": 19
        }
      ]
    },
    {
      "cell_type": "code",
      "source": [
        "s = np.random.uniform(-1,0,1000)"
      ],
      "metadata": {
        "id": "kUGGrXXA3S6e"
      },
      "execution_count": null,
      "outputs": []
    },
    {
      "cell_type": "code",
      "source": [
        "np.all(s >= 0)"
      ],
      "metadata": {
        "colab": {
          "base_uri": "https://localhost:8080/"
        },
        "id": "pvij-m_93Tcv",
        "outputId": "3239ec29-850d-49a9-bcd9-b896c2104b80"
      },
      "execution_count": null,
      "outputs": [
        {
          "output_type": "execute_result",
          "data": {
            "text/plain": [
              "False"
            ]
          },
          "metadata": {},
          "execution_count": 21
        }
      ]
    },
    {
      "cell_type": "code",
      "source": [
        "np.all(s < 20)"
      ],
      "metadata": {
        "colab": {
          "base_uri": "https://localhost:8080/"
        },
        "id": "vtKiccJG3TzU",
        "outputId": "d90f42b9-63ce-4587-9dba-9dc69c2b5353"
      },
      "execution_count": null,
      "outputs": [
        {
          "output_type": "execute_result",
          "data": {
            "text/plain": [
              "True"
            ]
          },
          "metadata": {},
          "execution_count": 22
        }
      ]
    },
    {
      "cell_type": "code",
      "source": [
        "mu, sigma = 10, 2 \n",
        "sum(np.random.normal(mu, sigma, 1000) >13)/1000"
      ],
      "metadata": {
        "colab": {
          "base_uri": "https://localhost:8080/"
        },
        "id": "VQWVuHrO3dSo",
        "outputId": "dbf8865d-175f-4de1-f21c-1332158add88"
      },
      "execution_count": null,
      "outputs": [
        {
          "output_type": "execute_result",
          "data": {
            "text/plain": [
              "0.072"
            ]
          },
          "metadata": {},
          "execution_count": 24
        }
      ]
    },
    {
      "cell_type": "code",
      "source": [
        "s = np.random.normal(mu, sigma, 1000)"
      ],
      "metadata": {
        "id": "ZmIUa--P3oY1"
      },
      "execution_count": null,
      "outputs": []
    },
    {
      "cell_type": "code",
      "source": [
        "import matplotlib.pyplot as plt\n",
        "%matplotlib inline\n",
        "plt.style.use('fivethirtyeight')\n",
        "count, bins, ignored = plt.hist(s, 30, density=True)\n",
        "plt.plot(bins, 1/(sigma * np.sqrt(2 * np.pi)) *\n",
        "np.exp( - (bins - mu)**2 / (2 * sigma**2) ),\n",
        "linewidth=2, color='r')\n",
        "plt.show()"
      ],
      "metadata": {
        "colab": {
          "base_uri": "https://localhost:8080/",
          "height": 282
        },
        "id": "k0t8vwns3doH",
        "outputId": "bada5eb8-127a-41b9-88cf-4fed3b178eaf"
      },
      "execution_count": null,
      "outputs": [
        {
          "output_type": "display_data",
          "data": {
            "text/plain": [
              "<Figure size 432x288 with 1 Axes>"
            ],
            "image/png": "[encoded data removed]"
          },
          "metadata": {}
        }
      ]
    },
    {
      "cell_type": "code",
      "source": [
        "sum(np.random.exponential(scale=1.4, size=10000) <0.5)/10000"
      ],
      "metadata": {
        "colab": {
          "base_uri": "https://localhost:8080/"
        },
        "id": "pNxV78Hy31Tl",
        "outputId": "c34e8790-d97c-4e4b-bdc6-38eea231a2b9"
      },
      "execution_count": null,
      "outputs": [
        {
          "output_type": "execute_result",
          "data": {
            "text/plain": [
              "0.2999"
            ]
          },
          "metadata": {},
          "execution_count": 27
        }
      ]
    },
    {
      "cell_type": "code",
      "source": [
        "import math\n",
        "x = -(0.5/1.4)\n",
        "1-math.exp( x )"
      ],
      "metadata": {
        "colab": {
          "base_uri": "https://localhost:8080/"
        },
        "id": "NlAf6rvG352c",
        "outputId": "c75681dc-7a30-4eca-8712-55628c9ee85c"
      },
      "execution_count": null,
      "outputs": [
        {
          "output_type": "execute_result",
          "data": {
            "text/plain": [
              "0.30032746262486965"
            ]
          },
          "metadata": {},
          "execution_count": 28
        }
      ]
    },
    {
      "cell_type": "code",
      "source": [
        "sum(np.random.exponential(scale=12, size=10000) <8)/10000"
      ],
      "metadata": {
        "colab": {
          "base_uri": "https://localhost:8080/"
        },
        "id": "Di96exaJ38oj",
        "outputId": "f6c73095-6fa2-4c00-e3bc-218c5879aa8f"
      },
      "execution_count": null,
      "outputs": [
        {
          "output_type": "execute_result",
          "data": {
            "text/plain": [
              "0.4856"
            ]
          },
          "metadata": {},
          "execution_count": 29
        }
      ]
    },
    {
      "cell_type": "code",
      "source": [
        "import math\n",
        "x = -(8/12)\n",
        "1-math.exp( x )"
      ],
      "metadata": {
        "colab": {
          "base_uri": "https://localhost:8080/"
        },
        "id": "PhW1QKS-3_lF",
        "outputId": "5a7b2e86-2c4d-4478-afdb-abdae0b24415"
      },
      "execution_count": null,
      "outputs": [
        {
          "output_type": "execute_result",
          "data": {
            "text/plain": [
              "0.486582880967408"
            ]
          },
          "metadata": {},
          "execution_count": 30
        }
      ]
    },
    {
      "cell_type": "code",
      "source": [
        "np.random.seed(1234)\n",
        "samples=np.random.lognormal(mean=1.,sigma=.4,size=10000)\n",
        "samples"
      ],
      "metadata": {
        "colab": {
          "base_uri": "https://localhost:8080/"
        },
        "id": "IKGv08Vw0ut-",
        "outputId": "2d569f37-ef66-4382-a8b7-4cf8138add28"
      },
      "execution_count": null,
      "outputs": [
        {
          "output_type": "execute_result",
          "data": {
            "text/plain": [
              "array([3.28239739, 1.68811027, 4.82148893, ..., 1.78428134, 2.22759552,\n",
              "       2.45370106])"
            ]
          },
          "metadata": {},
          "execution_count": 2
        }
      ]
    },
    {
      "cell_type": "code",
      "source": [
        "num_bins=50\n",
        "plt.hist(samples,bins=num_bins,color=\"g\");"
      ],
      "metadata": {
        "colab": {
          "base_uri": "https://localhost:8080/",
          "height": 266
        },
        "id": "w8YFZdOi0vxi",
        "outputId": "3394e094-e7ac-42d4-be45-684bde41ccc0"
      },
      "execution_count": null,
      "outputs": [
        {
          "output_type": "display_data",
          "data": {
            "text/plain": [
              "<Figure size 432x288 with 1 Axes>"
            ],
            "image/png": "[encoded data removed]"
          },
          "metadata": {
            "needs_background": "light"
          }
        }
      ]
    },
    {
      "cell_type": "code",
      "source": [
        "import seaborn\n",
        "from scipy.stats import norm\n",
        "%matplotlib inline"
      ],
      "metadata": {
        "id": "2d3eL1TU0yvB"
      },
      "execution_count": null,
      "outputs": []
    },
    {
      "cell_type": "code",
      "source": [
        "mu = 921.86\n",
        "sigma = 68.30\n",
        "x1 = 600\n",
        "x2 = 1300"
      ],
      "metadata": {
        "id": "tC3dKVUl07mQ"
      },
      "execution_count": null,
      "outputs": []
    },
    {
      "cell_type": "code",
      "source": [
        "z1 = ( x1 - mu ) / sigma #one SD\n",
        "z2 = ( x2 - mu ) / sigma"
      ],
      "metadata": {
        "id": "CXjfmraW1DMQ"
      },
      "execution_count": null,
      "outputs": []
    },
    {
      "cell_type": "code",
      "source": [
        "x = np.arange(z1, z2, 0.001) \n",
        "x_all = np.arange(-10, 10, 0.001) \n",
        "\n",
        "y = norm.pdf(x,0,1)\n",
        "y2 = norm.pdf(x_all,0,1)"
      ],
      "metadata": {
        "id": "AS0hfwKt1ELi"
      },
      "execution_count": null,
      "outputs": []
    },
    {
      "cell_type": "code",
      "source": [
        "fig, ax = plt.subplots(figsize=(5,4))\n",
        "plt.style.use('fivethirtyeight')\n",
        "ax.plot(x_all,y2);"
      ],
      "metadata": {
        "colab": {
          "base_uri": "https://localhost:8080/",
          "height": 265
        },
        "id": "vYEv8xbi1eLd",
        "outputId": "6fb32f5f-2f0e-458a-bd94-a36dc8b15f9b"
      },
      "execution_count": null,
      "outputs": [
        {
          "output_type": "display_data",
          "data": {
            "text/plain": [
              "<Figure size 360x288 with 1 Axes>"
            ],
            "image/png": "[encoded data removed]"
          },
          "metadata": {
            "needs_background": "light"
          }
        }
      ]
    },
    {
      "cell_type": "code",
      "source": [
        "fig, ax = plt.subplots(figsize=(5,4))\n",
        "plt.style.use('fivethirtyeight')\n",
        "ax.plot(x_all,y2)\n",
        "ax.fill_between(x,y, color='grey')  \n",
        "ax.set_xlim([-4,4])\n",
        "ax.set_xlabel('# of Standard Deviations Outside the Mean')\n",
        "ax.set_title('Normal Gaussian Curve')"
      ],
      "metadata": {
        "colab": {
          "base_uri": "https://localhost:8080/",
          "height": 342
        },
        "id": "TJqO6b_H1frk",
        "outputId": "28d56d2b-d70c-41d1-df75-78b7629f825c"
      },
      "execution_count": null,
      "outputs": [
        {
          "output_type": "execute_result",
          "data": {
            "text/plain": [
              "Text(0.5, 1.0, 'Normal Gaussian Curve')"
            ]
          },
          "metadata": {},
          "execution_count": 9
        },
        {
          "output_type": "display_data",
          "data": {
            "text/plain": [
              "<Figure size 360x288 with 1 Axes>"
            ],
            "image/png": "[encoded data removed]"
          },
          "metadata": {}
        }
      ]
    },
    {
      "cell_type": "code",
      "source": [
        "import seaborn\n",
        "from scipy.stats import binom\n",
        "data=binom.rvs(n=17,p=0.7,loc=0,size=1010)\n",
        "ax=seaborn.distplot(data,\n",
        "                kde=True,\n",
        "                color='pink',\n",
        "                hist_kws={\"linewidth\": 22,'alpha':0.77})\n",
        "ax.set(xlabel='Binomial',ylabel='Frequency');"
      ],
      "metadata": {
        "colab": {
          "base_uri": "https://localhost:8080/",
          "height": 359
        },
        "id": "Jdzqpb2f1jCJ",
        "outputId": "a56f5830-c925-4db3-9e04-d5ea0c4766af"
      },
      "execution_count": null,
      "outputs": [
        {
          "output_type": "stream",
          "name": "stderr",
          "text": [
            "/usr/local/lib/python3.7/dist-packages/seaborn/distributions.py:2619: FutureWarning: `distplot` is a deprecated function and will be removed in a future version. Please adapt your code to use either `displot` (a figure-level function with similar flexibility) or `histplot` (an axes-level function for histograms).\n",
            "  warnings.warn(msg, FutureWarning)\n"
          ]
        },
        {
          "output_type": "display_data",
          "data": {
            "text/plain": [
              "<Figure size 432x288 with 1 Axes>"
            ],
            "image/png": "[encoded data removed]"
          },
          "metadata": {}
        }
      ]
    },
    {
      "cell_type": "code",
      "source": [
        "s=np.random.binomial(10,0.5,1000)\n",
        "plt.hist(s,16,color='Brown');"
      ],
      "metadata": {
        "colab": {
          "base_uri": "https://localhost:8080/",
          "height": 282
        },
        "id": "g7yAhlKQ1_lu",
        "outputId": "5b7b4cf9-f0a6-4541-adb5-8b17d7a6bdc7"
      },
      "execution_count": null,
      "outputs": [
        {
          "output_type": "display_data",
          "data": {
            "text/plain": [
              "<Figure size 432x288 with 1 Axes>"
            ],
            "image/png": "[encoded data removed]"
          },
          "metadata": {}
        }
      ]
    },
    {
      "cell_type": "code",
      "source": [],
      "metadata": {
        "id": "j94hpYw-2CH1"
      },
      "execution_count": null,
      "outputs": []
    }
  ]
}