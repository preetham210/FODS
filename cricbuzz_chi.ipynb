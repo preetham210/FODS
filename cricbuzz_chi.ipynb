{
  "nbformat": 4,
  "nbformat_minor": 0,
  "metadata": {
    "colab": {
      "provenance": []
    },
    "kernelspec": {
      "name": "python3",
      "display_name": "Python 3"
    },
    "language_info": {
      "name": "python"
    }
  },
  "cells": [
    {
      "cell_type": "code",
      "execution_count": 1,
      "metadata": {
        "id": "lrMABZAiPcOm"
      },
      "outputs": [],
      "source": [
        "import pandas as pd\n",
        "from scipy.stats import chi2_contingency"
      ]
    },
    {
      "cell_type": "code",
      "source": [
        "df = pd.read_csv('/content/bat.csv')\n",
        "df.head()"
      ],
      "metadata": {
        "colab": {
          "base_uri": "https://localhost:8080/",
          "height": 357
        },
        "id": "d1aRLw7BPfxc",
        "outputId": "0589c24a-f671-43df-f91c-2dc27e3ed06b"
      },
      "execution_count": 2,
      "outputs": [
        {
          "output_type": "execute_result",
          "data": {
            "text/plain": [
              "           Player   Team Type    M  Inn  NO  Runs   HS    Avg    BF      SR  \\\n",
              "0     Virat Kohli  India  IPL  192  184  30  5878  113  38.17  4496  130.74   \n",
              "1    Rohit Sharma  India  IPL  200  195  28  5230  109  31.32  4004  130.62   \n",
              "2  Shikhar Dhawan  India  IPL  176  175  23  5196  106  34.18  4096  126.86   \n",
              "3    Shubman Gill  India  IPL   41   38  10   939   76  33.54   750  125.20   \n",
              "4    Shreyas Iyer  India  IPL   79   79   9  2200   96  31.43  1745  126.07   \n",
              "\n",
              "    4s   6s  50  100  200  \n",
              "0  503  201  39    5    0  \n",
              "1  458  213  39    1    0  \n",
              "2  591  108  41    2    0  \n",
              "3   87   24   7    0    0  \n",
              "4  189   83  16    0    0  "
            ],
            "text/html": [
              "\n",
              "  <div id=\"df-29a1e8a5-7d51-4a3b-8e66-b0b22a218db3\">\n",
              "    <div class=\"colab-df-container\">\n",
              "      <div>\n",
              "<style scoped>\n",
              "    .dataframe tbody tr th:only-of-type {\n",
              "        vertical-align: middle;\n",
              "    }\n",
              "\n",
              "    .dataframe tbody tr th {\n",
              "        vertical-align: top;\n",
              "    }\n",
              "\n",
              "    .dataframe thead th {\n",
              "        text-align: right;\n",
              "    }\n",
              "</style>\n",
              "<table border=\"1\" class=\"dataframe\">\n",
              "  <thead>\n",
              "    <tr style=\"text-align: right;\">\n",
              "      <th></th>\n",
              "      <th>Player</th>\n",
              "      <th>Team</th>\n",
              "      <th>Type</th>\n",
              "      <th>M</th>\n",
              "      <th>Inn</th>\n",
              "      <th>NO</th>\n",
              "      <th>Runs</th>\n",
              "      <th>HS</th>\n",
              "      <th>Avg</th>\n",
              "      <th>BF</th>\n",
              "      <th>SR</th>\n",
              "      <th>4s</th>\n",
              "      <th>6s</th>\n",
              "      <th>50</th>\n",
              "      <th>100</th>\n",
              "      <th>200</th>\n",
              "    </tr>\n",
              "  </thead>\n",
              "  <tbody>\n",
              "    <tr>\n",
              "      <th>0</th>\n",
              "      <td>Virat Kohli</td>\n",
              "      <td>India</td>\n",
              "      <td>IPL</td>\n",
              "      <td>192</td>\n",
              "      <td>184</td>\n",
              "      <td>30</td>\n",
              "      <td>5878</td>\n",
              "      <td>113</td>\n",
              "      <td>38.17</td>\n",
              "      <td>4496</td>\n",
              "      <td>130.74</td>\n",
              "      <td>503</td>\n",
              "      <td>201</td>\n",
              "      <td>39</td>\n",
              "      <td>5</td>\n",
              "      <td>0</td>\n",
              "    </tr>\n",
              "    <tr>\n",
              "      <th>1</th>\n",
              "      <td>Rohit Sharma</td>\n",
              "      <td>India</td>\n",
              "      <td>IPL</td>\n",
              "      <td>200</td>\n",
              "      <td>195</td>\n",
              "      <td>28</td>\n",
              "      <td>5230</td>\n",
              "      <td>109</td>\n",
              "      <td>31.32</td>\n",
              "      <td>4004</td>\n",
              "      <td>130.62</td>\n",
              "      <td>458</td>\n",
              "      <td>213</td>\n",
              "      <td>39</td>\n",
              "      <td>1</td>\n",
              "      <td>0</td>\n",
              "    </tr>\n",
              "    <tr>\n",
              "      <th>2</th>\n",
              "      <td>Shikhar Dhawan</td>\n",
              "      <td>India</td>\n",
              "      <td>IPL</td>\n",
              "      <td>176</td>\n",
              "      <td>175</td>\n",
              "      <td>23</td>\n",
              "      <td>5196</td>\n",
              "      <td>106</td>\n",
              "      <td>34.18</td>\n",
              "      <td>4096</td>\n",
              "      <td>126.86</td>\n",
              "      <td>591</td>\n",
              "      <td>108</td>\n",
              "      <td>41</td>\n",
              "      <td>2</td>\n",
              "      <td>0</td>\n",
              "    </tr>\n",
              "    <tr>\n",
              "      <th>3</th>\n",
              "      <td>Shubman Gill</td>\n",
              "      <td>India</td>\n",
              "      <td>IPL</td>\n",
              "      <td>41</td>\n",
              "      <td>38</td>\n",
              "      <td>10</td>\n",
              "      <td>939</td>\n",
              "      <td>76</td>\n",
              "      <td>33.54</td>\n",
              "      <td>750</td>\n",
              "      <td>125.20</td>\n",
              "      <td>87</td>\n",
              "      <td>24</td>\n",
              "      <td>7</td>\n",
              "      <td>0</td>\n",
              "      <td>0</td>\n",
              "    </tr>\n",
              "    <tr>\n",
              "      <th>4</th>\n",
              "      <td>Shreyas Iyer</td>\n",
              "      <td>India</td>\n",
              "      <td>IPL</td>\n",
              "      <td>79</td>\n",
              "      <td>79</td>\n",
              "      <td>9</td>\n",
              "      <td>2200</td>\n",
              "      <td>96</td>\n",
              "      <td>31.43</td>\n",
              "      <td>1745</td>\n",
              "      <td>126.07</td>\n",
              "      <td>189</td>\n",
              "      <td>83</td>\n",
              "      <td>16</td>\n",
              "      <td>0</td>\n",
              "      <td>0</td>\n",
              "    </tr>\n",
              "  </tbody>\n",
              "</table>\n",
              "</div>\n",
              "      <button class=\"colab-df-convert\" onclick=\"convertToInteractive('df-29a1e8a5-7d51-4a3b-8e66-b0b22a218db3')\"\n",
              "              title=\"Convert this dataframe to an interactive table.\"\n",
              "              style=\"display:none;\">\n",
              "        \n",
              "  <svg xmlns=\"http://www.w3.org/2000/svg\" height=\"24px\"viewBox=\"0 0 24 24\"\n",
              "       width=\"24px\">\n",
              "    <path d=\"M0 0h24v24H0V0z\" fill=\"none\"/>\n",
              "    <path d=\"M18.56 5.44l.94 2.06.94-2.06 2.06-.94-2.06-.94-.94-2.06-.94 2.06-2.06.94zm-11 1L8.5 8.5l.94-2.06 2.06-.94-2.06-.94L8.5 2.5l-.94 2.06-2.06.94zm10 10l.94 2.06.94-2.06 2.06-.94-2.06-.94-.94-2.06-.94 2.06-2.06.94z\"/><path d=\"M17.41 7.96l-1.37-1.37c-.4-.4-.92-.59-1.43-.59-.52 0-1.04.2-1.43.59L10.3 9.45l-7.72 7.72c-.78.78-.78 2.05 0 2.83L4 21.41c.39.39.9.59 1.41.59.51 0 1.02-.2 1.41-.59l7.78-7.78 2.81-2.81c.8-.78.8-2.07 0-2.86zM5.41 20L4 18.59l7.72-7.72 1.47 1.35L5.41 20z\"/>\n",
              "  </svg>\n",
              "      </button>\n",
              "      \n",
              "  <style>\n",
              "    .colab-df-container {\n",
              "      display:flex;\n",
              "      flex-wrap:wrap;\n",
              "      gap: 12px;\n",
              "    }\n",
              "\n",
              "    .colab-df-convert {\n",
              "      background-color: #E8F0FE;\n",
              "      border: none;\n",
              "      border-radius: 50%;\n",
              "      cursor: pointer;\n",
              "      display: none;\n",
              "      fill: #1967D2;\n",
              "      height: 32px;\n",
              "      padding: 0 0 0 0;\n",
              "      width: 32px;\n",
              "    }\n",
              "\n",
              "    .colab-df-convert:hover {\n",
              "      background-color: #E2EBFA;\n",
              "      box-shadow: 0px 1px 2px rgba(60, 64, 67, 0.3), 0px 1px 3px 1px rgba(60, 64, 67, 0.15);\n",
              "      fill: #174EA6;\n",
              "    }\n",
              "\n",
              "    [theme=dark] .colab-df-convert {\n",
              "      background-color: #3B4455;\n",
              "      fill: #D2E3FC;\n",
              "    }\n",
              "\n",
              "    [theme=dark] .colab-df-convert:hover {\n",
              "      background-color: #434B5C;\n",
              "      box-shadow: 0px 1px 3px 1px rgba(0, 0, 0, 0.15);\n",
              "      filter: drop-shadow(0px 1px 2px rgba(0, 0, 0, 0.3));\n",
              "      fill: #FFFFFF;\n",
              "    }\n",
              "  </style>\n",
              "\n",
              "      <script>\n",
              "        const buttonEl =\n",
              "          document.querySelector('#df-29a1e8a5-7d51-4a3b-8e66-b0b22a218db3 button.colab-df-convert');\n",
              "        buttonEl.style.display =\n",
              "          google.colab.kernel.accessAllowed ? 'block' : 'none';\n",
              "\n",
              "        async function convertToInteractive(key) {\n",
              "          const element = document.querySelector('#df-29a1e8a5-7d51-4a3b-8e66-b0b22a218db3');\n",
              "          const dataTable =\n",
              "            await google.colab.kernel.invokeFunction('convertToInteractive',\n",
              "                                                     [key], {});\n",
              "          if (!dataTable) return;\n",
              "\n",
              "          const docLinkHtml = 'Like what you see? Visit the ' +\n",
              "            '<a target=\"_blank\" href=https://colab.research.google.com/notebooks/data_table.ipynb>data table notebook</a>'\n",
              "            + ' to learn more about interactive tables.';\n",
              "          element.innerHTML = '';\n",
              "          dataTable['output_type'] = 'display_data';\n",
              "          await google.colab.output.renderOutput(dataTable, element);\n",
              "          const docLink = document.createElement('div');\n",
              "          docLink.innerHTML = docLinkHtml;\n",
              "          element.appendChild(docLink);\n",
              "        }\n",
              "      </script>\n",
              "    </div>\n",
              "  </div>\n",
              "  "
            ]
          },
          "metadata": {},
          "execution_count": 2
        }
      ]
    },
    {
      "cell_type": "code",
      "source": [
        "df['Type'].unique()"
      ],
      "metadata": {
        "colab": {
          "base_uri": "https://localhost:8080/"
        },
        "id": "5Wt1aAsmPr1Y",
        "outputId": "4823ec1c-dac5-44e9-8cb3-acd3b1240f49"
      },
      "execution_count": 3,
      "outputs": [
        {
          "output_type": "execute_result",
          "data": {
            "text/plain": [
              "array(['IPL', 'ODI', 'T20', 'Test'], dtype=object)"
            ]
          },
          "metadata": {},
          "execution_count": 3
        }
      ]
    },
    {
      "cell_type": "code",
      "source": [
        "type_grp = df.groupby(['Type'])"
      ],
      "metadata": {
        "id": "fhYVmezHPwUl"
      },
      "execution_count": 5,
      "outputs": []
    },
    {
      "cell_type": "code",
      "source": [
        "type_grp['Team'].value_counts().loc['IPL']"
      ],
      "metadata": {
        "colab": {
          "base_uri": "https://localhost:8080/"
        },
        "id": "HPWMN7SKP1Cn",
        "outputId": "482c7ad4-39a9-49a8-c452-dcc31414c56b"
      },
      "execution_count": 7,
      "outputs": [
        {
          "output_type": "execute_result",
          "data": {
            "text/plain": [
              "Team\n",
              "Australia       26\n",
              "India           26\n",
              "England         20\n",
              "Ireland         16\n",
              "Zimbabwe        16\n",
              "Afghanistan     15\n",
              "New-Zealand     15\n",
              "Sri-Lanka       15\n",
              "West-Indies     15\n",
              "Bangladesh      14\n",
              "Pakistan        14\n",
              "South-Africa    14\n",
              "Name: Team, dtype: int64"
            ]
          },
          "metadata": {},
          "execution_count": 7
        }
      ]
    },
    {
      "cell_type": "code",
      "source": [
        "type_grp['Team'].value_counts().loc['Test']"
      ],
      "metadata": {
        "colab": {
          "base_uri": "https://localhost:8080/"
        },
        "id": "ctU3oY79QVEi",
        "outputId": "013b7735-0f8b-4100-f899-4e7d99518de2"
      },
      "execution_count": 9,
      "outputs": [
        {
          "output_type": "execute_result",
          "data": {
            "text/plain": [
              "Team\n",
              "Australia       26\n",
              "India           26\n",
              "England         20\n",
              "Ireland         16\n",
              "Zimbabwe        16\n",
              "Afghanistan     15\n",
              "New-Zealand     15\n",
              "Sri-Lanka       15\n",
              "West-Indies     15\n",
              "Bangladesh      14\n",
              "Pakistan        14\n",
              "South-Africa    14\n",
              "Name: Team, dtype: int64"
            ]
          },
          "metadata": {},
          "execution_count": 9
        }
      ]
    },
    {
      "cell_type": "code",
      "source": [
        "type_grp['Team'].value_counts().loc['ODI']"
      ],
      "metadata": {
        "colab": {
          "base_uri": "https://localhost:8080/"
        },
        "id": "tjMUiSkrQeE1",
        "outputId": "d7b7863b-68bc-436b-9ae8-02ee9b954da0"
      },
      "execution_count": 10,
      "outputs": [
        {
          "output_type": "execute_result",
          "data": {
            "text/plain": [
              "Team\n",
              "Australia       26\n",
              "India           26\n",
              "England         20\n",
              "Ireland         16\n",
              "Zimbabwe        16\n",
              "Afghanistan     15\n",
              "New-Zealand     15\n",
              "Sri-Lanka       15\n",
              "West-Indies     15\n",
              "Bangladesh      14\n",
              "Pakistan        14\n",
              "South-Africa    14\n",
              "Name: Team, dtype: int64"
            ]
          },
          "metadata": {},
          "execution_count": 10
        }
      ]
    },
    {
      "cell_type": "markdown",
      "source": [
        "We can select the above 3 FORMATS and the teams as India and Australia. The null hypothesis is that there is no relation between the format and the corresponding teams . The alternative hypothesis can be that there is a relation or that they are not independent."
      ],
      "metadata": {
        "id": "_jKgDOrUQzzP"
      }
    },
    {
      "cell_type": "code",
      "source": [
        "data = [[8, 4], [7, 6], [1, 2]]"
      ],
      "metadata": {
        "id": "u4SQZCJcQzdz"
      },
      "execution_count": 11,
      "outputs": []
    },
    {
      "cell_type": "code",
      "source": [
        "test_statistic, p_value, dof, expected_freq = chi2_contingency(data)"
      ],
      "metadata": {
        "id": "dKdI5oIjROTO"
      },
      "execution_count": 12,
      "outputs": []
    },
    {
      "cell_type": "code",
      "source": [
        "print(f'Test Statistic - {test_statistic}\\nP-Value - {p_value}\\nDegrees of Freedom - {dof}')"
      ],
      "metadata": {
        "colab": {
          "base_uri": "https://localhost:8080/"
        },
        "id": "I94xmG8WRQ61",
        "outputId": "5c4ed18e-184e-4454-faa1-035b5075bdcc"
      },
      "execution_count": 13,
      "outputs": [
        {
          "output_type": "stream",
          "name": "stdout",
          "text": [
            "Test Statistic - 1.1965811965811968\n",
            "P-Value - 0.5497505779286571\n",
            "Degrees of Freedom - 2\n"
          ]
        }
      ]
    },
    {
      "cell_type": "code",
      "source": [
        "alpha = 0.05\n",
        "if p_value <= alpha:\n",
        "    print('Reject null hypothesis')\n",
        "else:\n",
        "    print('Fail to reject null hypothesis')"
      ],
      "metadata": {
        "colab": {
          "base_uri": "https://localhost:8080/"
        },
        "id": "_ygengjURTFQ",
        "outputId": "6027dcba-4f8b-4233-bf81-3734db090372"
      },
      "execution_count": 14,
      "outputs": [
        {
          "output_type": "stream",
          "name": "stdout",
          "text": [
            "Fail to reject null hypothesis\n"
          ]
        }
      ]
    },
    {
      "cell_type": "markdown",
      "source": [
        "Thus, we can conclude that the teams   of differents countries  is independent  of the format"
      ],
      "metadata": {
        "id": "JAjZ_a69RWak"
      }
    }
  ]
}